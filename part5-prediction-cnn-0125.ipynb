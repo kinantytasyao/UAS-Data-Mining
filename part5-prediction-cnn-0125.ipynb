{
 "cells": [
  {
   "cell_type": "code",
   "execution_count": 1,
   "id": "466582b6",
   "metadata": {
    "_cell_guid": "b1076dfc-b9ad-4769-8c92-a6c4dae69d19",
    "_uuid": "8f2839f25d086af736a60e9eeb907d3b93b6e0e5",
    "execution": {
     "iopub.execute_input": "2021-10-30T07:12:22.217810Z",
     "iopub.status.busy": "2021-10-30T07:12:22.216602Z",
     "iopub.status.idle": "2021-10-30T07:12:28.185973Z",
     "shell.execute_reply": "2021-10-30T07:12:28.186477Z"
    },
    "papermill": {
     "duration": 5.987478,
     "end_time": "2021-10-30T07:12:28.186782",
     "exception": false,
     "start_time": "2021-10-30T07:12:22.199304",
     "status": "completed"
    },
    "tags": []
   },
   "outputs": [],
   "source": [
    "# Melakukan impor libraries yang diperlukan untuk membangun model dan prediksi data.\n",
    "import numpy as np\n",
    "import pandas as pd\n",
    "from sklearn.model_selection import train_test_split\n",
    "from keras.models import Sequential\n",
    "from keras.layers import Dense, Dropout, Flatten, Conv2D, MaxPool2D\n",
    "from tensorflow.keras.optimizers import RMSprop\n",
    "from keras.preprocessing.image import ImageDataGenerator\n",
    "from keras.callbacks import ReduceLROnPlateau\n",
    "import time\n",
    "import datetime"
   ]
  },
  {
   "cell_type": "code",
   "execution_count": 2,
   "id": "5177b10a",
   "metadata": {
    "execution": {
     "iopub.execute_input": "2021-10-30T07:12:28.214003Z",
     "iopub.status.busy": "2021-10-30T07:12:28.213198Z",
     "iopub.status.idle": "2021-10-30T07:12:28.217093Z",
     "shell.execute_reply": "2021-10-30T07:12:28.216484Z"
    },
    "papermill": {
     "duration": 0.017438,
     "end_time": "2021-10-30T07:12:28.217223",
     "exception": false,
     "start_time": "2021-10-30T07:12:28.199785",
     "status": "completed"
    },
    "tags": []
   },
   "outputs": [],
   "source": [
    "# Mencatat waktu dimulainya keseluruhan program model dan prediksi data.\n",
    "global_start_time = time.time()"
   ]
  },
  {
   "cell_type": "code",
   "execution_count": 3,
   "id": "09a683d1",
   "metadata": {
    "execution": {
     "iopub.execute_input": "2021-10-30T07:12:28.242164Z",
     "iopub.status.busy": "2021-10-30T07:12:28.241545Z",
     "iopub.status.idle": "2021-10-30T07:12:28.243064Z",
     "shell.execute_reply": "2021-10-30T07:12:28.243696Z"
    },
    "papermill": {
     "duration": 0.01644,
     "end_time": "2021-10-30T07:12:28.243862",
     "exception": false,
     "start_time": "2021-10-30T07:12:28.227422",
     "status": "completed"
    },
    "tags": []
   },
   "outputs": [],
   "source": [
    "# Menetapkan nilai seed untuk reproduksi model.\n",
    "seed = 2021\n",
    "\n",
    "np.random.seed(2021)"
   ]
  },
  {
   "cell_type": "code",
   "execution_count": 4,
   "id": "15bcf88f",
   "metadata": {
    "execution": {
     "iopub.execute_input": "2021-10-30T07:12:28.266600Z",
     "iopub.status.busy": "2021-10-30T07:12:28.265967Z",
     "iopub.status.idle": "2021-10-30T07:13:00.385202Z",
     "shell.execute_reply": "2021-10-30T07:13:00.384504Z"
    },
    "papermill": {
     "duration": 32.131471,
     "end_time": "2021-10-30T07:13:00.385378",
     "exception": false,
     "start_time": "2021-10-30T07:12:28.253907",
     "status": "completed"
    },
    "tags": []
   },
   "outputs": [],
   "source": [
    "# Menyusun dan menampilkan data training.\n",
    "X_train = pd.read_csv('../input/bdc-sd2021-train-tabular-data/train_gray.csv')\n",
    "X_train = X_train.values.reshape(-1,128,128,1)"
   ]
  },
  {
   "cell_type": "code",
   "execution_count": 5,
   "id": "57342b19",
   "metadata": {
    "execution": {
     "iopub.execute_input": "2021-10-30T07:13:00.410435Z",
     "iopub.status.busy": "2021-10-30T07:13:00.409726Z",
     "iopub.status.idle": "2021-10-30T07:13:14.787882Z",
     "shell.execute_reply": "2021-10-30T07:13:14.786949Z"
    },
    "papermill": {
     "duration": 14.392323,
     "end_time": "2021-10-30T07:13:14.788028",
     "exception": false,
     "start_time": "2021-10-30T07:13:00.395705",
     "status": "completed"
    },
    "tags": []
   },
   "outputs": [],
   "source": [
    "# Menyusun dan menampilkan data testing.\n",
    "X_test = pd.read_csv('../input/bdc-sd2021-test-tabular-data/test_gray.csv')\n",
    "X_test = X_test.values.reshape(-1,128,128,1)"
   ]
  },
  {
   "cell_type": "code",
   "execution_count": 6,
   "id": "1d98579c",
   "metadata": {
    "execution": {
     "iopub.execute_input": "2021-10-30T07:13:14.813880Z",
     "iopub.status.busy": "2021-10-30T07:13:14.813230Z",
     "iopub.status.idle": "2021-10-30T07:13:14.844253Z",
     "shell.execute_reply": "2021-10-30T07:13:14.844741Z"
    },
    "papermill": {
     "duration": 0.046573,
     "end_time": "2021-10-30T07:13:14.844911",
     "exception": false,
     "start_time": "2021-10-30T07:13:14.798338",
     "status": "completed"
    },
    "tags": []
   },
   "outputs": [
    {
     "data": {
      "text/html": [
       "<div>\n",
       "<style scoped>\n",
       "    .dataframe tbody tr th:only-of-type {\n",
       "        vertical-align: middle;\n",
       "    }\n",
       "\n",
       "    .dataframe tbody tr th {\n",
       "        vertical-align: top;\n",
       "    }\n",
       "\n",
       "    .dataframe thead th {\n",
       "        text-align: right;\n",
       "    }\n",
       "</style>\n",
       "<table border=\"1\" class=\"dataframe\">\n",
       "  <thead>\n",
       "    <tr style=\"text-align: right;\">\n",
       "      <th></th>\n",
       "      <th>jenis_kelamin</th>\n",
       "    </tr>\n",
       "  </thead>\n",
       "  <tbody>\n",
       "    <tr>\n",
       "      <th>0</th>\n",
       "      <td>0</td>\n",
       "    </tr>\n",
       "    <tr>\n",
       "      <th>1</th>\n",
       "      <td>0</td>\n",
       "    </tr>\n",
       "    <tr>\n",
       "      <th>2</th>\n",
       "      <td>0</td>\n",
       "    </tr>\n",
       "    <tr>\n",
       "      <th>3</th>\n",
       "      <td>1</td>\n",
       "    </tr>\n",
       "    <tr>\n",
       "      <th>4</th>\n",
       "      <td>1</td>\n",
       "    </tr>\n",
       "    <tr>\n",
       "      <th>...</th>\n",
       "      <td>...</td>\n",
       "    </tr>\n",
       "    <tr>\n",
       "      <th>2300</th>\n",
       "      <td>0</td>\n",
       "    </tr>\n",
       "    <tr>\n",
       "      <th>2301</th>\n",
       "      <td>0</td>\n",
       "    </tr>\n",
       "    <tr>\n",
       "      <th>2302</th>\n",
       "      <td>0</td>\n",
       "    </tr>\n",
       "    <tr>\n",
       "      <th>2303</th>\n",
       "      <td>0</td>\n",
       "    </tr>\n",
       "    <tr>\n",
       "      <th>2304</th>\n",
       "      <td>0</td>\n",
       "    </tr>\n",
       "  </tbody>\n",
       "</table>\n",
       "<p>2305 rows × 1 columns</p>\n",
       "</div>"
      ],
      "text/plain": [
       "      jenis_kelamin\n",
       "0                 0\n",
       "1                 0\n",
       "2                 0\n",
       "3                 1\n",
       "4                 1\n",
       "...             ...\n",
       "2300              0\n",
       "2301              0\n",
       "2302              0\n",
       "2303              0\n",
       "2304              0\n",
       "\n",
       "[2305 rows x 1 columns]"
      ]
     },
     "execution_count": 6,
     "metadata": {},
     "output_type": "execute_result"
    }
   ],
   "source": [
    "# Memunculkan target prediksi.\n",
    "y_train = pd.read_csv('../input/bdc-sd2021-data-tambahan/train_target_and_fold.csv')[['jenis_kelamin']]\n",
    "y_train"
   ]
  },
  {
   "cell_type": "code",
   "execution_count": 7,
   "id": "79b92a4a",
   "metadata": {
    "execution": {
     "iopub.execute_input": "2021-10-30T07:13:14.870421Z",
     "iopub.status.busy": "2021-10-30T07:13:14.869476Z",
     "iopub.status.idle": "2021-10-30T07:13:15.322682Z",
     "shell.execute_reply": "2021-10-30T07:13:15.323138Z"
    },
    "papermill": {
     "duration": 0.467572,
     "end_time": "2021-10-30T07:13:15.323350",
     "exception": false,
     "start_time": "2021-10-30T07:13:14.855778",
     "status": "completed"
    },
    "tags": []
   },
   "outputs": [],
   "source": [
    "# Melakukan pemisahan data untuk training dan validasi.\n",
    "X_train, X_valid, y_train, y_valid = train_test_split(X_train, y_train, test_size = 0.1, random_state = seed)"
   ]
  },
  {
   "cell_type": "code",
   "execution_count": 8,
   "id": "daf2d01a",
   "metadata": {
    "execution": {
     "iopub.execute_input": "2021-10-30T07:13:15.353183Z",
     "iopub.status.busy": "2021-10-30T07:13:15.352574Z",
     "iopub.status.idle": "2021-10-30T07:13:15.613221Z",
     "shell.execute_reply": "2021-10-30T07:13:15.613927Z"
    },
    "papermill": {
     "duration": 0.279959,
     "end_time": "2021-10-30T07:13:15.614156",
     "exception": false,
     "start_time": "2021-10-30T07:13:15.334197",
     "status": "completed"
    },
    "tags": []
   },
   "outputs": [
    {
     "name": "stdout",
     "output_type": "stream",
     "text": [
      "Model: \"sequential\"\n",
      "_________________________________________________________________\n",
      "Layer (type)                 Output Shape              Param #   \n",
      "=================================================================\n",
      "conv2d (Conv2D)              (None, 128, 128, 32)      832       \n",
      "_________________________________________________________________\n",
      "conv2d_1 (Conv2D)            (None, 128, 128, 32)      25632     \n",
      "_________________________________________________________________\n",
      "max_pooling2d (MaxPooling2D) (None, 64, 64, 32)        0         \n",
      "_________________________________________________________________\n",
      "dropout (Dropout)            (None, 64, 64, 32)        0         \n",
      "_________________________________________________________________\n",
      "conv2d_2 (Conv2D)            (None, 64, 64, 64)        18496     \n",
      "_________________________________________________________________\n",
      "conv2d_3 (Conv2D)            (None, 64, 64, 64)        36928     \n",
      "_________________________________________________________________\n",
      "max_pooling2d_1 (MaxPooling2 (None, 32, 32, 64)        0         \n",
      "_________________________________________________________________\n",
      "dropout_1 (Dropout)          (None, 32, 32, 64)        0         \n",
      "_________________________________________________________________\n",
      "flatten (Flatten)            (None, 65536)             0         \n",
      "_________________________________________________________________\n",
      "dense (Dense)                (None, 256)               16777472  \n",
      "_________________________________________________________________\n",
      "dropout_2 (Dropout)          (None, 256)               0         \n",
      "_________________________________________________________________\n",
      "dense_1 (Dense)              (None, 1)                 257       \n",
      "=================================================================\n",
      "Total params: 16,859,617\n",
      "Trainable params: 16,859,617\n",
      "Non-trainable params: 0\n",
      "_________________________________________________________________\n"
     ]
    },
    {
     "name": "stderr",
     "output_type": "stream",
     "text": [
      "\n",
      "User settings:\n",
      "\n",
      "   KMP_AFFINITY=granularity=fine,verbose,compact,1,0\n",
      "   KMP_BLOCKTIME=0\n",
      "   KMP_DUPLICATE_LIB_OK=True\n",
      "   KMP_INIT_AT_FORK=FALSE\n",
      "   KMP_SETTINGS=1\n",
      "   KMP_WARNINGS=0\n",
      "\n",
      "Effective settings:\n",
      "\n",
      "   KMP_ABORT_DELAY=0\n",
      "   KMP_ADAPTIVE_LOCK_PROPS='1,1024'\n",
      "   KMP_ALIGN_ALLOC=64\n",
      "   KMP_ALL_THREADPRIVATE=128\n",
      "   KMP_ATOMIC_MODE=2\n",
      "   KMP_BLOCKTIME=0\n",
      "   KMP_CPUINFO_FILE: value is not defined\n",
      "   KMP_DETERMINISTIC_REDUCTION=false\n",
      "   KMP_DEVICE_THREAD_LIMIT=2147483647\n",
      "   KMP_DISP_NUM_BUFFERS=7\n",
      "   KMP_DUPLICATE_LIB_OK=true\n",
      "   KMP_ENABLE_TASK_THROTTLING=true\n",
      "   KMP_FORCE_REDUCTION: value is not defined\n",
      "   KMP_FOREIGN_THREADS_THREADPRIVATE=true\n",
      "   KMP_FORKJOIN_BARRIER='2,2'\n",
      "   KMP_FORKJOIN_BARRIER_PATTERN='hyper,hyper'\n",
      "   KMP_GTID_MODE=3\n",
      "   KMP_HANDLE_SIGNALS=false\n",
      "   KMP_HOT_TEAMS_MAX_LEVEL=1\n",
      "   KMP_HOT_TEAMS_MODE=0\n",
      "   KMP_INIT_AT_FORK=true\n",
      "   KMP_LIBRARY=throughput\n",
      "   KMP_LOCK_KIND=queuing\n",
      "   KMP_MALLOC_POOL_INCR=1M\n",
      "   KMP_NUM_LOCKS_IN_BLOCK=1\n",
      "   KMP_PLAIN_BARRIER='2,2'\n",
      "   KMP_PLAIN_BARRIER_PATTERN='hyper,hyper'\n",
      "   KMP_REDUCTION_BARRIER='1,1'\n",
      "   KMP_REDUCTION_BARRIER_PATTERN='hyper,hyper'\n",
      "   KMP_SCHEDULE='static,balanced;guided,iterative'\n",
      "   KMP_SETTINGS=true\n",
      "   KMP_SPIN_BACKOFF_PARAMS='4096,100'\n",
      "   KMP_STACKOFFSET=64\n",
      "   KMP_STACKPAD=0\n",
      "   KMP_STACKSIZE=8M\n",
      "   KMP_STORAGE_MAP=false\n",
      "   KMP_TASKING=2\n",
      "   KMP_TASKLOOP_MIN_TASKS=0\n",
      "   KMP_TASK_STEALING_CONSTRAINT=1\n",
      "   KMP_TEAMS_THREAD_LIMIT=4\n",
      "   KMP_TOPOLOGY_METHOD=all\n",
      "   KMP_USE_YIELD=1\n",
      "   KMP_VERSION=false\n",
      "   KMP_WARNINGS=false\n",
      "   OMP_AFFINITY_FORMAT='OMP: pid %P tid %i thread %n bound to OS proc set {%A}'\n",
      "   OMP_ALLOCATOR=omp_default_mem_alloc\n",
      "   OMP_CANCELLATION=false\n",
      "   OMP_DEFAULT_DEVICE=0\n",
      "   OMP_DISPLAY_AFFINITY=false\n",
      "   OMP_DISPLAY_ENV=false\n",
      "   OMP_DYNAMIC=false\n",
      "   OMP_MAX_ACTIVE_LEVELS=1\n",
      "   OMP_MAX_TASK_PRIORITY=0\n",
      "   OMP_NESTED: deprecated; max-active-levels-var=1\n",
      "   OMP_NUM_THREADS: value is not defined\n",
      "   OMP_PLACES: value is not defined\n",
      "   OMP_PROC_BIND='intel'\n",
      "   OMP_SCHEDULE='static'\n",
      "   OMP_STACKSIZE=8M\n",
      "   OMP_TARGET_OFFLOAD=DEFAULT\n",
      "   OMP_THREAD_LIMIT=2147483647\n",
      "   OMP_WAIT_POLICY=PASSIVE\n",
      "   KMP_AFFINITY='verbose,warnings,respect,granularity=fine,compact,1,0'\n",
      "\n",
      "2021-10-30 07:13:15.398528: I tensorflow/core/common_runtime/process_util.cc:146] Creating new thread pool with default inter op setting: 2. Tune using inter_op_parallelism_threads for best performance.\n"
     ]
    }
   ],
   "source": [
    "# Membangun model.\n",
    "model = Sequential()\n",
    "model.add(Conv2D(filters = 32, kernel_size = (5,5),padding = 'Same', \n",
    "                 activation ='relu', input_shape = (128,128,1)))\n",
    "model.add(Conv2D(filters = 32, kernel_size = (5,5),padding = 'Same', \n",
    "                 activation ='relu'))\n",
    "model.add(MaxPool2D(pool_size=(2,2)))\n",
    "model.add(Dropout(0.25))\n",
    "model.add(Conv2D(filters = 64, kernel_size = (3,3),padding = 'Same', \n",
    "                 activation ='relu'))\n",
    "model.add(Conv2D(filters = 64, kernel_size = (3,3),padding = 'Same', \n",
    "                 activation ='relu'))\n",
    "model.add(MaxPool2D(pool_size=(2,2), strides=(2,2)))\n",
    "model.add(Dropout(0.25))\n",
    "model.add(Flatten())\n",
    "model.add(Dense(256, activation = \"relu\"))\n",
    "model.add(Dropout(0.5))\n",
    "model.add(Dense(1, activation='sigmoid'))\n",
    "model.compile(loss = 'binary_crossentropy', optimizer='rmsprop', metrics=['accuracy'])\n",
    "model.summary()"
   ]
  },
  {
   "cell_type": "code",
   "execution_count": 9,
   "id": "dcea4157",
   "metadata": {
    "execution": {
     "iopub.execute_input": "2021-10-30T07:13:15.644341Z",
     "iopub.status.busy": "2021-10-30T07:13:15.643383Z",
     "iopub.status.idle": "2021-10-30T07:13:15.646135Z",
     "shell.execute_reply": "2021-10-30T07:13:15.645685Z"
    },
    "papermill": {
     "duration": 0.019991,
     "end_time": "2021-10-30T07:13:15.646286",
     "exception": false,
     "start_time": "2021-10-30T07:13:15.626295",
     "status": "completed"
    },
    "tags": []
   },
   "outputs": [],
   "source": [
    "# Mendefinisikan optimizer.\n",
    "optimizer = RMSprop(learning_rate=0.001, rho=0.9, epsilon=1e-08, decay=0.0)"
   ]
  },
  {
   "cell_type": "code",
   "execution_count": 10,
   "id": "2de6e529",
   "metadata": {
    "execution": {
     "iopub.execute_input": "2021-10-30T07:13:15.676701Z",
     "iopub.status.busy": "2021-10-30T07:13:15.676078Z",
     "iopub.status.idle": "2021-10-30T07:13:15.681850Z",
     "shell.execute_reply": "2021-10-30T07:13:15.681398Z"
    },
    "papermill": {
     "duration": 0.023989,
     "end_time": "2021-10-30T07:13:15.681988",
     "exception": false,
     "start_time": "2021-10-30T07:13:15.657999",
     "status": "completed"
    },
    "tags": []
   },
   "outputs": [],
   "source": [
    "# Mengkompilasi model.\n",
    "model.compile(optimizer = optimizer , loss = \"binary_crossentropy\", metrics=[\"accuracy\"])"
   ]
  },
  {
   "cell_type": "code",
   "execution_count": 11,
   "id": "e3fafe33",
   "metadata": {
    "execution": {
     "iopub.execute_input": "2021-10-30T07:13:15.710956Z",
     "iopub.status.busy": "2021-10-30T07:13:15.710008Z",
     "iopub.status.idle": "2021-10-30T07:13:15.712199Z",
     "shell.execute_reply": "2021-10-30T07:13:15.712652Z"
    },
    "papermill": {
     "duration": 0.018915,
     "end_time": "2021-10-30T07:13:15.712821",
     "exception": false,
     "start_time": "2021-10-30T07:13:15.693906",
     "status": "completed"
    },
    "tags": []
   },
   "outputs": [],
   "source": [
    "# Menetapkan batasan untuk learning rate.\n",
    "learning_rate_reduction = ReduceLROnPlateau(monitor='val_acc', \n",
    "                                            patience=2, \n",
    "                                            verbose=1, \n",
    "                                            factor=0.5, \n",
    "                                            min_lr=0.00001)"
   ]
  },
  {
   "cell_type": "code",
   "execution_count": 12,
   "id": "de5a9c4a",
   "metadata": {
    "execution": {
     "iopub.execute_input": "2021-10-30T07:13:15.741716Z",
     "iopub.status.busy": "2021-10-30T07:13:15.740822Z",
     "iopub.status.idle": "2021-10-30T07:13:15.743706Z",
     "shell.execute_reply": "2021-10-30T07:13:15.743190Z"
    },
    "papermill": {
     "duration": 0.019154,
     "end_time": "2021-10-30T07:13:15.743843",
     "exception": false,
     "start_time": "2021-10-30T07:13:15.724689",
     "status": "completed"
    },
    "tags": []
   },
   "outputs": [],
   "source": [
    "# Menetapkan nilai epoch dan batch size.\n",
    "epochs = 85\n",
    "batch_size = 90"
   ]
  },
  {
   "cell_type": "code",
   "execution_count": 13,
   "id": "5a510cb9",
   "metadata": {
    "execution": {
     "iopub.execute_input": "2021-10-30T07:13:15.775178Z",
     "iopub.status.busy": "2021-10-30T07:13:15.774498Z",
     "iopub.status.idle": "2021-10-30T07:13:15.884648Z",
     "shell.execute_reply": "2021-10-30T07:13:15.884055Z"
    },
    "papermill": {
     "duration": 0.128987,
     "end_time": "2021-10-30T07:13:15.884795",
     "exception": false,
     "start_time": "2021-10-30T07:13:15.755808",
     "status": "completed"
    },
    "tags": []
   },
   "outputs": [],
   "source": [
    "# Melakukan augmentasi data.\n",
    "datagen = ImageDataGenerator(\n",
    "        featurewise_center=False,  # set input mean to 0 over the dataset\n",
    "        samplewise_center=False,  # set each sample mean to 0\n",
    "        featurewise_std_normalization=False,  # divide inputs by std of the dataset\n",
    "        samplewise_std_normalization=False,  # divide each input by its std\n",
    "        zca_whitening=False,  # apply ZCA whitening\n",
    "        rotation_range=10,  # randomly rotate images in the range (degrees, 0 to 180)\n",
    "        zoom_range = 0.1, # Randomly zoom image\n",
    "        width_shift_range=0.1,  # randomly shift images horizontally (fraction of total width)\n",
    "        height_shift_range=0.1,  # randomly shift images vertically (fraction of total height)\n",
    "        horizontal_flip=False,  # randomly flip images\n",
    "        vertical_flip=False)  # randomly flip images\n",
    "\n",
    "datagen.fit(X_train)"
   ]
  },
  {
   "cell_type": "code",
   "execution_count": 14,
   "id": "430ecca8",
   "metadata": {
    "execution": {
     "iopub.execute_input": "2021-10-30T07:13:15.914553Z",
     "iopub.status.busy": "2021-10-30T07:13:15.913906Z",
     "iopub.status.idle": "2021-10-30T09:09:13.422918Z",
     "shell.execute_reply": "2021-10-30T09:09:13.423418Z"
    },
    "papermill": {
     "duration": 6957.526611,
     "end_time": "2021-10-30T09:09:13.423605",
     "exception": false,
     "start_time": "2021-10-30T07:13:15.896994",
     "status": "completed"
    },
    "tags": []
   },
   "outputs": [
    {
     "name": "stderr",
     "output_type": "stream",
     "text": [
      "2021-10-30 07:13:16.158223: I tensorflow/compiler/mlir/mlir_graph_optimization_pass.cc:185] None of the MLIR Optimization Passes are enabled (registered 2)\n"
     ]
    },
    {
     "name": "stdout",
     "output_type": "stream",
     "text": [
      "Epoch 1/85\n",
      "23/23 - 79s - loss: 2.2309 - accuracy: 0.5146 - val_loss: 0.6846 - val_accuracy: 0.5671\n",
      "Epoch 2/85\n",
      "23/23 - 76s - loss: 0.6800 - accuracy: 0.5847 - val_loss: 0.6603 - val_accuracy: 0.5671\n",
      "Epoch 3/85\n",
      "23/23 - 76s - loss: 0.6306 - accuracy: 0.6502 - val_loss: 0.4482 - val_accuracy: 0.8139\n",
      "Epoch 4/85\n",
      "23/23 - 77s - loss: 0.5071 - accuracy: 0.7495 - val_loss: 0.3549 - val_accuracy: 0.8571\n",
      "Epoch 5/85\n",
      "23/23 - 76s - loss: 0.4891 - accuracy: 0.7777 - val_loss: 0.3478 - val_accuracy: 0.8918\n",
      "Epoch 6/85\n",
      "23/23 - 76s - loss: 0.4536 - accuracy: 0.8201 - val_loss: 0.3239 - val_accuracy: 0.8831\n",
      "Epoch 7/85\n",
      "23/23 - 76s - loss: 0.3915 - accuracy: 0.8332 - val_loss: 0.4784 - val_accuracy: 0.7706\n",
      "Epoch 8/85\n",
      "23/23 - 76s - loss: 0.4421 - accuracy: 0.8120 - val_loss: 0.2919 - val_accuracy: 0.8918\n",
      "Epoch 9/85\n",
      "23/23 - 76s - loss: 0.3958 - accuracy: 0.8322 - val_loss: 0.2874 - val_accuracy: 0.9177\n",
      "Epoch 10/85\n",
      "23/23 - 76s - loss: 0.3818 - accuracy: 0.8392 - val_loss: 0.2438 - val_accuracy: 0.9394\n",
      "Epoch 11/85\n",
      "23/23 - 77s - loss: 0.3632 - accuracy: 0.8473 - val_loss: 0.2457 - val_accuracy: 0.9177\n",
      "Epoch 12/85\n",
      "23/23 - 77s - loss: 0.3635 - accuracy: 0.8528 - val_loss: 0.2423 - val_accuracy: 0.9134\n",
      "Epoch 13/85\n",
      "23/23 - 76s - loss: 0.3416 - accuracy: 0.8579 - val_loss: 0.2630 - val_accuracy: 0.9264\n",
      "Epoch 14/85\n",
      "23/23 - 77s - loss: 0.3885 - accuracy: 0.8528 - val_loss: 0.2290 - val_accuracy: 0.9351\n",
      "Epoch 15/85\n",
      "23/23 - 77s - loss: 0.3276 - accuracy: 0.8715 - val_loss: 0.3090 - val_accuracy: 0.8745\n",
      "Epoch 16/85\n",
      "23/23 - 77s - loss: 0.3263 - accuracy: 0.8730 - val_loss: 0.1945 - val_accuracy: 0.9394\n",
      "Epoch 17/85\n",
      "23/23 - 77s - loss: 0.3196 - accuracy: 0.8810 - val_loss: 0.2235 - val_accuracy: 0.9307\n",
      "Epoch 18/85\n",
      "23/23 - 76s - loss: 0.3170 - accuracy: 0.8770 - val_loss: 0.1833 - val_accuracy: 0.9524\n",
      "Epoch 19/85\n",
      "23/23 - 77s - loss: 0.3113 - accuracy: 0.8805 - val_loss: 0.3101 - val_accuracy: 0.9048\n",
      "Epoch 20/85\n",
      "23/23 - 77s - loss: 0.2965 - accuracy: 0.8826 - val_loss: 0.1902 - val_accuracy: 0.9351\n",
      "Epoch 21/85\n",
      "23/23 - 77s - loss: 0.2960 - accuracy: 0.8841 - val_loss: 0.1886 - val_accuracy: 0.9481\n",
      "Epoch 22/85\n",
      "23/23 - 76s - loss: 0.3065 - accuracy: 0.8810 - val_loss: 0.1914 - val_accuracy: 0.9394\n",
      "Epoch 23/85\n",
      "23/23 - 77s - loss: 0.3205 - accuracy: 0.8805 - val_loss: 0.2090 - val_accuracy: 0.9307\n",
      "Epoch 24/85\n",
      "23/23 - 76s - loss: 0.2776 - accuracy: 0.8957 - val_loss: 0.2648 - val_accuracy: 0.8745\n",
      "Epoch 25/85\n",
      "23/23 - 76s - loss: 0.2949 - accuracy: 0.8805 - val_loss: 0.2035 - val_accuracy: 0.9351\n",
      "Epoch 26/85\n",
      "23/23 - 76s - loss: 0.2652 - accuracy: 0.9027 - val_loss: 0.1817 - val_accuracy: 0.9437\n",
      "Epoch 27/85\n",
      "23/23 - 77s - loss: 0.2673 - accuracy: 0.8967 - val_loss: 0.2047 - val_accuracy: 0.9351\n",
      "Epoch 28/85\n",
      "23/23 - 76s - loss: 0.2484 - accuracy: 0.9047 - val_loss: 0.2322 - val_accuracy: 0.8831\n",
      "Epoch 29/85\n",
      "23/23 - 77s - loss: 0.2478 - accuracy: 0.9083 - val_loss: 0.1741 - val_accuracy: 0.9437\n",
      "Epoch 30/85\n",
      "23/23 - 77s - loss: 0.2544 - accuracy: 0.9037 - val_loss: 0.2180 - val_accuracy: 0.9351\n",
      "Epoch 31/85\n",
      "23/23 - 77s - loss: 0.2553 - accuracy: 0.9007 - val_loss: 0.1652 - val_accuracy: 0.9524\n",
      "Epoch 32/85\n",
      "23/23 - 77s - loss: 0.2303 - accuracy: 0.9148 - val_loss: 0.1855 - val_accuracy: 0.9307\n",
      "Epoch 33/85\n",
      "23/23 - 78s - loss: 0.2427 - accuracy: 0.9093 - val_loss: 0.2114 - val_accuracy: 0.9307\n",
      "Epoch 34/85\n",
      "23/23 - 78s - loss: 0.2376 - accuracy: 0.9199 - val_loss: 0.1504 - val_accuracy: 0.9567\n",
      "Epoch 35/85\n",
      "23/23 - 78s - loss: 0.2322 - accuracy: 0.9093 - val_loss: 0.4100 - val_accuracy: 0.8398\n",
      "Epoch 36/85\n",
      "23/23 - 77s - loss: 0.2395 - accuracy: 0.9052 - val_loss: 0.2264 - val_accuracy: 0.9307\n",
      "Epoch 37/85\n",
      "23/23 - 83s - loss: 0.2189 - accuracy: 0.9174 - val_loss: 0.1485 - val_accuracy: 0.9610\n",
      "Epoch 38/85\n",
      "23/23 - 78s - loss: 0.2316 - accuracy: 0.9078 - val_loss: 0.1563 - val_accuracy: 0.9567\n",
      "Epoch 39/85\n",
      "23/23 - 77s - loss: 0.2326 - accuracy: 0.9163 - val_loss: 0.1832 - val_accuracy: 0.9481\n",
      "Epoch 40/85\n",
      "23/23 - 77s - loss: 0.2147 - accuracy: 0.9204 - val_loss: 0.1560 - val_accuracy: 0.9697\n",
      "Epoch 41/85\n",
      "23/23 - 77s - loss: 0.2120 - accuracy: 0.9153 - val_loss: 0.1462 - val_accuracy: 0.9567\n",
      "Epoch 42/85\n",
      "23/23 - 77s - loss: 0.2270 - accuracy: 0.9244 - val_loss: 0.1328 - val_accuracy: 0.9740\n",
      "Epoch 43/85\n",
      "23/23 - 78s - loss: 0.1929 - accuracy: 0.9315 - val_loss: 0.1672 - val_accuracy: 0.9697\n",
      "Epoch 44/85\n",
      "23/23 - 77s - loss: 0.2424 - accuracy: 0.9098 - val_loss: 0.1377 - val_accuracy: 0.9740\n",
      "Epoch 45/85\n",
      "23/23 - 77s - loss: 0.2260 - accuracy: 0.9173 - val_loss: 0.1308 - val_accuracy: 0.9697\n",
      "Epoch 46/85\n",
      "23/23 - 78s - loss: 0.1806 - accuracy: 0.9345 - val_loss: 0.1390 - val_accuracy: 0.9697\n",
      "Epoch 47/85\n",
      "23/23 - 77s - loss: 0.1911 - accuracy: 0.9284 - val_loss: 0.1174 - val_accuracy: 0.9697\n",
      "Epoch 48/85\n",
      "23/23 - 78s - loss: 0.1976 - accuracy: 0.9219 - val_loss: 0.1584 - val_accuracy: 0.9567\n",
      "Epoch 49/85\n",
      "23/23 - 77s - loss: 0.1850 - accuracy: 0.9395 - val_loss: 0.1316 - val_accuracy: 0.9697\n",
      "Epoch 50/85\n",
      "23/23 - 78s - loss: 0.1868 - accuracy: 0.9284 - val_loss: 0.1695 - val_accuracy: 0.9567\n",
      "Epoch 51/85\n",
      "23/23 - 78s - loss: 0.1907 - accuracy: 0.9340 - val_loss: 0.1222 - val_accuracy: 0.9654\n",
      "Epoch 52/85\n",
      "23/23 - 78s - loss: 0.1741 - accuracy: 0.9441 - val_loss: 0.1646 - val_accuracy: 0.9524\n",
      "Epoch 53/85\n",
      "23/23 - 77s - loss: 0.1780 - accuracy: 0.9335 - val_loss: 0.1297 - val_accuracy: 0.9610\n",
      "Epoch 54/85\n",
      "23/23 - 78s - loss: 0.1841 - accuracy: 0.9294 - val_loss: 0.1069 - val_accuracy: 0.9827\n",
      "Epoch 55/85\n",
      "23/23 - 77s - loss: 0.1676 - accuracy: 0.9435 - val_loss: 0.1050 - val_accuracy: 0.9697\n",
      "Epoch 56/85\n",
      "23/23 - 78s - loss: 0.1612 - accuracy: 0.9446 - val_loss: 0.1206 - val_accuracy: 0.9654\n",
      "Epoch 57/85\n",
      "23/23 - 77s - loss: 0.1524 - accuracy: 0.9471 - val_loss: 0.1069 - val_accuracy: 0.9784\n",
      "Epoch 58/85\n",
      "23/23 - 77s - loss: 0.1728 - accuracy: 0.9340 - val_loss: 0.1346 - val_accuracy: 0.9697\n",
      "Epoch 59/85\n",
      "23/23 - 76s - loss: 0.1731 - accuracy: 0.9446 - val_loss: 0.1022 - val_accuracy: 0.9697\n",
      "Epoch 60/85\n",
      "23/23 - 76s - loss: 0.1865 - accuracy: 0.9330 - val_loss: 0.1101 - val_accuracy: 0.9740\n",
      "Epoch 61/85\n",
      "23/23 - 76s - loss: 0.1335 - accuracy: 0.9471 - val_loss: 0.1257 - val_accuracy: 0.9394\n",
      "Epoch 62/85\n",
      "23/23 - 77s - loss: 0.1467 - accuracy: 0.9476 - val_loss: 0.0998 - val_accuracy: 0.9654\n",
      "Epoch 63/85\n",
      "23/23 - 76s - loss: 0.1602 - accuracy: 0.9456 - val_loss: 0.1031 - val_accuracy: 0.9697\n",
      "Epoch 64/85\n",
      "23/23 - 77s - loss: 0.1608 - accuracy: 0.9405 - val_loss: 0.1510 - val_accuracy: 0.9567\n",
      "Epoch 65/85\n",
      "23/23 - 76s - loss: 0.1398 - accuracy: 0.9501 - val_loss: 0.1096 - val_accuracy: 0.9740\n",
      "Epoch 66/85\n",
      "23/23 - 76s - loss: 0.1505 - accuracy: 0.9486 - val_loss: 0.0775 - val_accuracy: 0.9784\n",
      "Epoch 67/85\n",
      "23/23 - 76s - loss: 0.1392 - accuracy: 0.9496 - val_loss: 0.0943 - val_accuracy: 0.9740\n",
      "Epoch 68/85\n",
      "23/23 - 76s - loss: 0.1592 - accuracy: 0.9435 - val_loss: 0.1031 - val_accuracy: 0.9740\n",
      "Epoch 69/85\n",
      "23/23 - 76s - loss: 0.1403 - accuracy: 0.9551 - val_loss: 0.1123 - val_accuracy: 0.9697\n",
      "Epoch 70/85\n",
      "23/23 - 79s - loss: 0.1327 - accuracy: 0.9551 - val_loss: 0.1096 - val_accuracy: 0.9610\n",
      "Epoch 71/85\n",
      "23/23 - 76s - loss: 0.1424 - accuracy: 0.9511 - val_loss: 0.1255 - val_accuracy: 0.9567\n",
      "Epoch 72/85\n",
      "23/23 - 77s - loss: 0.1522 - accuracy: 0.9491 - val_loss: 0.0815 - val_accuracy: 0.9784\n",
      "Epoch 73/85\n",
      "23/23 - 76s - loss: 0.1270 - accuracy: 0.9592 - val_loss: 0.1023 - val_accuracy: 0.9740\n",
      "Epoch 74/85\n",
      "23/23 - 76s - loss: 0.1399 - accuracy: 0.9541 - val_loss: 0.0752 - val_accuracy: 0.9784\n",
      "Epoch 75/85\n",
      "23/23 - 77s - loss: 0.1273 - accuracy: 0.9531 - val_loss: 0.0777 - val_accuracy: 0.9784\n",
      "Epoch 76/85\n",
      "23/23 - 77s - loss: 0.1355 - accuracy: 0.9536 - val_loss: 0.0865 - val_accuracy: 0.9697\n",
      "Epoch 77/85\n",
      "23/23 - 78s - loss: 0.1243 - accuracy: 0.9572 - val_loss: 0.1338 - val_accuracy: 0.9524\n",
      "Epoch 78/85\n",
      "23/23 - 78s - loss: 0.1158 - accuracy: 0.9617 - val_loss: 0.0827 - val_accuracy: 0.9784\n",
      "Epoch 79/85\n",
      "23/23 - 78s - loss: 0.1288 - accuracy: 0.9582 - val_loss: 0.1124 - val_accuracy: 0.9654\n",
      "Epoch 80/85\n",
      "23/23 - 78s - loss: 0.1508 - accuracy: 0.9476 - val_loss: 0.1299 - val_accuracy: 0.9610\n",
      "Epoch 81/85\n",
      "23/23 - 78s - loss: 0.1121 - accuracy: 0.9587 - val_loss: 0.0923 - val_accuracy: 0.9697\n",
      "Epoch 82/85\n",
      "23/23 - 77s - loss: 0.1501 - accuracy: 0.9491 - val_loss: 0.0871 - val_accuracy: 0.9740\n",
      "Epoch 83/85\n",
      "23/23 - 76s - loss: 0.1305 - accuracy: 0.9582 - val_loss: 0.1266 - val_accuracy: 0.9654\n",
      "Epoch 84/85\n",
      "23/23 - 76s - loss: 0.1328 - accuracy: 0.9587 - val_loss: 0.1157 - val_accuracy: 0.9697\n",
      "Epoch 85/85\n",
      "23/23 - 76s - loss: 0.1333 - accuracy: 0.9577 - val_loss: 0.0770 - val_accuracy: 0.9784\n"
     ]
    }
   ],
   "source": [
    "# Melakukan fitting model.\n",
    "history = model.fit(datagen.flow(X_train,y_train, batch_size=batch_size),\n",
    "                    epochs = epochs, validation_data = (X_valid,y_valid),\n",
    "                    verbose = 2, steps_per_epoch = X_train.shape[0] // batch_size,\n",
    "                    callbacks = [learning_rate_reduction])"
   ]
  },
  {
   "cell_type": "code",
   "execution_count": 15,
   "id": "0d224614",
   "metadata": {
    "execution": {
     "iopub.execute_input": "2021-10-30T09:09:13.531483Z",
     "iopub.status.busy": "2021-10-30T09:09:13.530254Z",
     "iopub.status.idle": "2021-10-30T09:09:24.719040Z",
     "shell.execute_reply": "2021-10-30T09:09:24.718293Z"
    },
    "papermill": {
     "duration": 11.245473,
     "end_time": "2021-10-30T09:09:24.719184",
     "exception": false,
     "start_time": "2021-10-30T09:09:13.473711",
     "status": "completed"
    },
    "tags": []
   },
   "outputs": [],
   "source": [
    "# Memprediksi target pada data validasi dan testing.\n",
    "y_valid_pred = model.predict(X_valid)\n",
    "y_valid_pred = pd.DataFrame((y_valid_pred >= 0.5)*1)\n",
    "\n",
    "y_test_pred = model.predict(X_test)\n",
    "y_test_pred = pd.DataFrame((y_test_pred >= 0.5) * 1)"
   ]
  },
  {
   "cell_type": "code",
   "execution_count": 16,
   "id": "c60f5a62",
   "metadata": {
    "execution": {
     "iopub.execute_input": "2021-10-30T09:09:24.848629Z",
     "iopub.status.busy": "2021-10-30T09:09:24.825647Z",
     "iopub.status.idle": "2021-10-30T09:09:24.852099Z",
     "shell.execute_reply": "2021-10-30T09:09:24.852610Z"
    },
    "papermill": {
     "duration": 0.081793,
     "end_time": "2021-10-30T09:09:24.852777",
     "exception": false,
     "start_time": "2021-10-30T09:09:24.770984",
     "status": "completed"
    },
    "tags": []
   },
   "outputs": [
    {
     "name": "stdout",
     "output_type": "stream",
     "text": [
      "nilai error pada data validasi:  0.021645021645021644\n"
     ]
    }
   ],
   "source": [
    "# Menampilkan nilai error pada data validasi.\n",
    "y_valid = y_valid.reset_index().drop('index', axis = 1)\n",
    "y_valid.columns = [0]\n",
    "error = abs(y_valid - y_valid_pred).mean()\n",
    "print('nilai error pada data validasi: ', error[0])"
   ]
  },
  {
   "cell_type": "code",
   "execution_count": 17,
   "id": "665922e3",
   "metadata": {
    "execution": {
     "iopub.execute_input": "2021-10-30T09:09:24.957550Z",
     "iopub.status.busy": "2021-10-30T09:09:24.956970Z",
     "iopub.status.idle": "2021-10-30T09:09:24.987014Z",
     "shell.execute_reply": "2021-10-30T09:09:24.987481Z"
    },
    "papermill": {
     "duration": 0.08404,
     "end_time": "2021-10-30T09:09:24.987650",
     "exception": false,
     "start_time": "2021-10-30T09:09:24.903610",
     "status": "completed"
    },
    "tags": []
   },
   "outputs": [
    {
     "data": {
      "text/html": [
       "<div>\n",
       "<style scoped>\n",
       "    .dataframe tbody tr th:only-of-type {\n",
       "        vertical-align: middle;\n",
       "    }\n",
       "\n",
       "    .dataframe tbody tr th {\n",
       "        vertical-align: top;\n",
       "    }\n",
       "\n",
       "    .dataframe thead th {\n",
       "        text-align: right;\n",
       "    }\n",
       "</style>\n",
       "<table border=\"1\" class=\"dataframe\">\n",
       "  <thead>\n",
       "    <tr style=\"text-align: right;\">\n",
       "      <th></th>\n",
       "      <th>id</th>\n",
       "      <th>jenis kelamin</th>\n",
       "    </tr>\n",
       "  </thead>\n",
       "  <tbody>\n",
       "    <tr>\n",
       "      <th>0</th>\n",
       "      <td>005093b2-8c4b-4ed7-91c3-f5f4d50f8d27</td>\n",
       "      <td>1</td>\n",
       "    </tr>\n",
       "    <tr>\n",
       "      <th>1</th>\n",
       "      <td>0052554e-069e-4c43-beb0-0885e8f7684e</td>\n",
       "      <td>1</td>\n",
       "    </tr>\n",
       "    <tr>\n",
       "      <th>2</th>\n",
       "      <td>0092b954-1143-4a95-a17b-1edfa6af3b01</td>\n",
       "      <td>0</td>\n",
       "    </tr>\n",
       "    <tr>\n",
       "      <th>3</th>\n",
       "      <td>009fc28b-fe9b-441d-b8a2-ea8b7ae6ca16</td>\n",
       "      <td>0</td>\n",
       "    </tr>\n",
       "    <tr>\n",
       "      <th>4</th>\n",
       "      <td>00d0e306-06fe-45d8-ae6c-6f83ab8f7810</td>\n",
       "      <td>1</td>\n",
       "    </tr>\n",
       "    <tr>\n",
       "      <th>...</th>\n",
       "      <td>...</td>\n",
       "      <td>...</td>\n",
       "    </tr>\n",
       "    <tr>\n",
       "      <th>985</th>\n",
       "      <td>feb9e70f-4182-4500-866d-9b95657e727c</td>\n",
       "      <td>0</td>\n",
       "    </tr>\n",
       "    <tr>\n",
       "      <th>986</th>\n",
       "      <td>fed67ed2-620a-4ebf-b61e-16ef3d9b93f7</td>\n",
       "      <td>0</td>\n",
       "    </tr>\n",
       "    <tr>\n",
       "      <th>987</th>\n",
       "      <td>ff14c77e-c3c2-46db-9341-30de4130ef8a</td>\n",
       "      <td>1</td>\n",
       "    </tr>\n",
       "    <tr>\n",
       "      <th>988</th>\n",
       "      <td>ff662f3f-8c76-4d27-a73e-c43c4353f798</td>\n",
       "      <td>1</td>\n",
       "    </tr>\n",
       "    <tr>\n",
       "      <th>989</th>\n",
       "      <td>ffa30e4a-c056-4a2d-8c63-d266810d0791</td>\n",
       "      <td>0</td>\n",
       "    </tr>\n",
       "  </tbody>\n",
       "</table>\n",
       "<p>990 rows × 2 columns</p>\n",
       "</div>"
      ],
      "text/plain": [
       "                                       id  jenis kelamin\n",
       "0    005093b2-8c4b-4ed7-91c3-f5f4d50f8d27              1\n",
       "1    0052554e-069e-4c43-beb0-0885e8f7684e              1\n",
       "2    0092b954-1143-4a95-a17b-1edfa6af3b01              0\n",
       "3    009fc28b-fe9b-441d-b8a2-ea8b7ae6ca16              0\n",
       "4    00d0e306-06fe-45d8-ae6c-6f83ab8f7810              1\n",
       "..                                    ...            ...\n",
       "985  feb9e70f-4182-4500-866d-9b95657e727c              0\n",
       "986  fed67ed2-620a-4ebf-b61e-16ef3d9b93f7              0\n",
       "987  ff14c77e-c3c2-46db-9341-30de4130ef8a              1\n",
       "988  ff662f3f-8c76-4d27-a73e-c43c4353f798              1\n",
       "989  ffa30e4a-c056-4a2d-8c63-d266810d0791              0\n",
       "\n",
       "[990 rows x 2 columns]"
      ]
     },
     "execution_count": 17,
     "metadata": {},
     "output_type": "execute_result"
    }
   ],
   "source": [
    "# Menyimpan hasil prediksi.\n",
    "prediction = pd.read_csv('../input/bdc-satriadata2021/submission.csv')\n",
    "prediction['jenis kelamin'] = y_test_pred\n",
    "prediction.to_csv('prediction_cnn_0125.csv', index = False)\n",
    "prediction"
   ]
  },
  {
   "cell_type": "code",
   "execution_count": 18,
   "id": "3cc12f6b",
   "metadata": {
    "execution": {
     "iopub.execute_input": "2021-10-30T09:09:25.093506Z",
     "iopub.status.busy": "2021-10-30T09:09:25.092931Z",
     "iopub.status.idle": "2021-10-30T09:09:25.097384Z",
     "shell.execute_reply": "2021-10-30T09:09:25.097924Z"
    },
    "papermill": {
     "duration": 0.059309,
     "end_time": "2021-10-30T09:09:25.098086",
     "exception": false,
     "start_time": "2021-10-30T09:09:25.038777",
     "status": "completed"
    },
    "tags": []
   },
   "outputs": [
    {
     "name": "stdout",
     "output_type": "stream",
     "text": [
      "total execution time: 1:56:56.880585\n"
     ]
    }
   ],
   "source": [
    "# Mencatat waktu berakhirnya keseluruhan program model dan prediksi data.\n",
    "global_end_time = time.time()\n",
    "\n",
    "# Menampilkan waktu eksekusi dari keseluruhan program model dan prediksi data.\n",
    "total_execution_time = datetime.timedelta(seconds = global_end_time - global_start_time)\n",
    "print(\"total execution time: %s\" % (total_execution_time))"
   ]
  }
 ],
 "metadata": {
  "kernelspec": {
   "display_name": "Python 3",
   "language": "python",
   "name": "python3"
  },
  "language_info": {
   "codemirror_mode": {
    "name": "ipython",
    "version": 3
   },
   "file_extension": ".py",
   "mimetype": "text/x-python",
   "name": "python",
   "nbconvert_exporter": "python",
   "pygments_lexer": "ipython3",
   "version": "3.7.10"
  },
  "papermill": {
   "default_parameters": {},
   "duration": 7034.18568,
   "end_time": "2021-10-30T09:09:28.412112",
   "environment_variables": {},
   "exception": null,
   "input_path": "__notebook__.ipynb",
   "output_path": "__notebook__.ipynb",
   "parameters": {},
   "start_time": "2021-10-30T07:12:14.226432",
   "version": "2.3.3"
  }
 },
 "nbformat": 4,
 "nbformat_minor": 5
}
