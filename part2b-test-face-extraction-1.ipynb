{
 "cells": [
  {
   "cell_type": "code",
   "execution_count": 1,
   "id": "18e0366c",
   "metadata": {
    "_cell_guid": "b1076dfc-b9ad-4769-8c92-a6c4dae69d19",
    "_uuid": "8f2839f25d086af736a60e9eeb907d3b93b6e0e5",
    "execution": {
     "iopub.execute_input": "2021-10-27T08:28:59.281978Z",
     "iopub.status.busy": "2021-10-27T08:28:59.280762Z",
     "iopub.status.idle": "2021-10-27T08:28:59.458982Z",
     "shell.execute_reply": "2021-10-27T08:28:59.459555Z",
     "shell.execute_reply.started": "2021-10-27T08:04:21.862416Z"
    },
    "papermill": {
     "duration": 0.193932,
     "end_time": "2021-10-27T08:28:59.459873",
     "exception": false,
     "start_time": "2021-10-27T08:28:59.265941",
     "status": "completed"
    },
    "tags": []
   },
   "outputs": [],
   "source": [
    "# Melakukan impor libraries yang diperlukan untuk visualisasi data.\n",
    "import pandas as pd\n",
    "import matplotlib.pyplot as plt\n",
    "import matplotlib.image as mpimg\n",
    "import matplotlib.gridspec as gridspec\n",
    "import cv2\n",
    "import time\n",
    "import datetime"
   ]
  },
  {
   "cell_type": "code",
   "execution_count": 2,
   "id": "6805a10f",
   "metadata": {
    "execution": {
     "iopub.execute_input": "2021-10-27T08:28:59.479952Z",
     "iopub.status.busy": "2021-10-27T08:28:59.479224Z",
     "iopub.status.idle": "2021-10-27T08:29:16.482642Z",
     "shell.execute_reply": "2021-10-27T08:29:16.481706Z",
     "shell.execute_reply.started": "2021-10-27T08:04:26.045679Z"
    },
    "papermill": {
     "duration": 17.01436,
     "end_time": "2021-10-27T08:29:16.482794",
     "exception": false,
     "start_time": "2021-10-27T08:28:59.468434",
     "status": "completed"
    },
    "tags": []
   },
   "outputs": [
    {
     "name": "stdout",
     "output_type": "stream",
     "text": [
      "Collecting mtcnn\r\n",
      "  Downloading mtcnn-0.1.1-py3-none-any.whl (2.3 MB)\r\n",
      "\u001b[K     |████████████████████████████████| 2.3 MB 3.0 MB/s \r\n",
      "\u001b[?25hRequirement already satisfied: opencv-python>=4.1.0 in /opt/conda/lib/python3.7/site-packages (from mtcnn) (4.5.3.56)\r\n",
      "Requirement already satisfied: keras>=2.0.0 in /opt/conda/lib/python3.7/site-packages (from mtcnn) (2.6.0)\r\n",
      "Requirement already satisfied: numpy>=1.14.5 in /opt/conda/lib/python3.7/site-packages (from opencv-python>=4.1.0->mtcnn) (1.19.5)\r\n",
      "Installing collected packages: mtcnn\r\n",
      "Successfully installed mtcnn-0.1.1\r\n",
      "\u001b[33mWARNING: Running pip as the 'root' user can result in broken permissions and conflicting behaviour with the system package manager. It is recommended to use a virtual environment instead: https://pip.pypa.io/warnings/venv\u001b[0m\r\n"
     ]
    }
   ],
   "source": [
    "# Melakukan impor MTCNN untuk deteksi wajah.\n",
    "! pip install mtcnn\n",
    "from mtcnn.mtcnn import MTCNN"
   ]
  },
  {
   "cell_type": "code",
   "execution_count": 3,
   "id": "9a49dfd6",
   "metadata": {
    "execution": {
     "iopub.execute_input": "2021-10-27T08:29:16.509805Z",
     "iopub.status.busy": "2021-10-27T08:29:16.508984Z",
     "iopub.status.idle": "2021-10-27T08:29:16.511980Z",
     "shell.execute_reply": "2021-10-27T08:29:16.511463Z"
    },
    "papermill": {
     "duration": 0.01807,
     "end_time": "2021-10-27T08:29:16.512122",
     "exception": false,
     "start_time": "2021-10-27T08:29:16.494052",
     "status": "completed"
    },
    "tags": []
   },
   "outputs": [],
   "source": [
    "# Mencatat waktu dimulainya keseluruhan program visualisasi data.\n",
    "global_start_time = time.time()"
   ]
  },
  {
   "cell_type": "code",
   "execution_count": 4,
   "id": "a5823093",
   "metadata": {
    "execution": {
     "iopub.execute_input": "2021-10-27T08:29:16.539155Z",
     "iopub.status.busy": "2021-10-27T08:29:16.538442Z",
     "iopub.status.idle": "2021-10-27T08:29:16.570319Z",
     "shell.execute_reply": "2021-10-27T08:29:16.570787Z",
     "shell.execute_reply.started": "2021-10-27T08:04:44.198294Z"
    },
    "papermill": {
     "duration": 0.047831,
     "end_time": "2021-10-27T08:29:16.570969",
     "exception": false,
     "start_time": "2021-10-27T08:29:16.523138",
     "status": "completed"
    },
    "tags": []
   },
   "outputs": [
    {
     "data": {
      "text/html": [
       "<div>\n",
       "<style scoped>\n",
       "    .dataframe tbody tr th:only-of-type {\n",
       "        vertical-align: middle;\n",
       "    }\n",
       "\n",
       "    .dataframe tbody tr th {\n",
       "        vertical-align: top;\n",
       "    }\n",
       "\n",
       "    .dataframe thead th {\n",
       "        text-align: right;\n",
       "    }\n",
       "</style>\n",
       "<table border=\"1\" class=\"dataframe\">\n",
       "  <thead>\n",
       "    <tr style=\"text-align: right;\">\n",
       "      <th></th>\n",
       "      <th>id</th>\n",
       "    </tr>\n",
       "  </thead>\n",
       "  <tbody>\n",
       "    <tr>\n",
       "      <th>0</th>\n",
       "      <td>005093b2-8c4b-4ed7-91c3-f5f4d50f8d27</td>\n",
       "    </tr>\n",
       "    <tr>\n",
       "      <th>1</th>\n",
       "      <td>0052554e-069e-4c43-beb0-0885e8f7684e</td>\n",
       "    </tr>\n",
       "    <tr>\n",
       "      <th>2</th>\n",
       "      <td>0092b954-1143-4a95-a17b-1edfa6af3b01</td>\n",
       "    </tr>\n",
       "    <tr>\n",
       "      <th>3</th>\n",
       "      <td>009fc28b-fe9b-441d-b8a2-ea8b7ae6ca16</td>\n",
       "    </tr>\n",
       "    <tr>\n",
       "      <th>4</th>\n",
       "      <td>00d0e306-06fe-45d8-ae6c-6f83ab8f7810</td>\n",
       "    </tr>\n",
       "    <tr>\n",
       "      <th>...</th>\n",
       "      <td>...</td>\n",
       "    </tr>\n",
       "    <tr>\n",
       "      <th>985</th>\n",
       "      <td>feb9e70f-4182-4500-866d-9b95657e727c</td>\n",
       "    </tr>\n",
       "    <tr>\n",
       "      <th>986</th>\n",
       "      <td>fed67ed2-620a-4ebf-b61e-16ef3d9b93f7</td>\n",
       "    </tr>\n",
       "    <tr>\n",
       "      <th>987</th>\n",
       "      <td>ff14c77e-c3c2-46db-9341-30de4130ef8a</td>\n",
       "    </tr>\n",
       "    <tr>\n",
       "      <th>988</th>\n",
       "      <td>ff662f3f-8c76-4d27-a73e-c43c4353f798</td>\n",
       "    </tr>\n",
       "    <tr>\n",
       "      <th>989</th>\n",
       "      <td>ffa30e4a-c056-4a2d-8c63-d266810d0791</td>\n",
       "    </tr>\n",
       "  </tbody>\n",
       "</table>\n",
       "<p>990 rows × 1 columns</p>\n",
       "</div>"
      ],
      "text/plain": [
       "                                       id\n",
       "0    005093b2-8c4b-4ed7-91c3-f5f4d50f8d27\n",
       "1    0052554e-069e-4c43-beb0-0885e8f7684e\n",
       "2    0092b954-1143-4a95-a17b-1edfa6af3b01\n",
       "3    009fc28b-fe9b-441d-b8a2-ea8b7ae6ca16\n",
       "4    00d0e306-06fe-45d8-ae6c-6f83ab8f7810\n",
       "..                                    ...\n",
       "985  feb9e70f-4182-4500-866d-9b95657e727c\n",
       "986  fed67ed2-620a-4ebf-b61e-16ef3d9b93f7\n",
       "987  ff14c77e-c3c2-46db-9341-30de4130ef8a\n",
       "988  ff662f3f-8c76-4d27-a73e-c43c4353f798\n",
       "989  ffa30e4a-c056-4a2d-8c63-d266810d0791\n",
       "\n",
       "[990 rows x 1 columns]"
      ]
     },
     "execution_count": 4,
     "metadata": {},
     "output_type": "execute_result"
    }
   ],
   "source": [
    "# Membaca sekaligus menampilkan id dari data testing.\n",
    "df_test = pd.read_csv('../input/bdc-satriadata2021/submission.csv')\n",
    "df_test"
   ]
  },
  {
   "cell_type": "code",
   "execution_count": 5,
   "id": "321857fb",
   "metadata": {
    "execution": {
     "iopub.execute_input": "2021-10-27T08:29:16.602049Z",
     "iopub.status.busy": "2021-10-27T08:29:16.601374Z",
     "iopub.status.idle": "2021-10-27T08:29:50.383590Z",
     "shell.execute_reply": "2021-10-27T08:29:50.384095Z",
     "shell.execute_reply.started": "2021-10-27T08:04:55.142888Z"
    },
    "papermill": {
     "duration": 33.801854,
     "end_time": "2021-10-27T08:29:50.384277",
     "exception": false,
     "start_time": "2021-10-27T08:29:16.582423",
     "status": "completed"
    },
    "tags": []
   },
   "outputs": [
    {
     "name": "stdout",
     "output_type": "stream",
     "text": [
      "execution time: 0:00:33.769066\n"
     ]
    }
   ],
   "source": [
    "# Mencatat waktu dimulainya pembacaan testing images.\n",
    "start_time = time.time()\n",
    "\n",
    "# Mencatat index dari setiap testing images.\n",
    "img_test = {}\n",
    "index_test = list(df_test.iloc[:,0])\n",
    "filename_master_test = '../input/bdc-satriadata2021/Testing/'\n",
    "\n",
    "for index in index_test:\n",
    "    # Membaca dan menyimpan testing images.\n",
    "    img_test[index] = {}\n",
    "    img_index = index + '.jpg'\n",
    "    filename_test = filename_master_test + img_index\n",
    "    img_test[index] = mpimg.imread(filename_test)\n",
    "\n",
    "# Mencatat waktu berakhirnya pembacaan testing images.\n",
    "end_time = time.time()\n",
    "\n",
    "# Menampilkan waktu eksekusi dari pembacaan testing images.\n",
    "execution_time = datetime.timedelta(seconds = end_time - start_time)\n",
    "print(\"execution time: %s\" % (execution_time))"
   ]
  },
  {
   "cell_type": "code",
   "execution_count": 6,
   "id": "7b2ef95a",
   "metadata": {
    "execution": {
     "iopub.execute_input": "2021-10-27T08:29:50.413756Z",
     "iopub.status.busy": "2021-10-27T08:29:50.413043Z",
     "iopub.status.idle": "2021-10-27T08:29:50.794257Z",
     "shell.execute_reply": "2021-10-27T08:29:50.793668Z",
     "shell.execute_reply.started": "2021-10-27T08:05:48.521391Z"
    },
    "papermill": {
     "duration": 0.398024,
     "end_time": "2021-10-27T08:29:50.794409",
     "exception": false,
     "start_time": "2021-10-27T08:29:50.396385",
     "status": "completed"
    },
    "tags": []
   },
   "outputs": [
    {
     "name": "stderr",
     "output_type": "stream",
     "text": [
      "\n",
      "User settings:\n",
      "\n",
      "   KMP_AFFINITY=granularity=fine,verbose,compact,1,0\n",
      "   KMP_BLOCKTIME=0\n",
      "   KMP_SETTINGS=1\n",
      "   KMP_WARNINGS=0\n",
      "\n",
      "Effective settings:\n",
      "\n",
      "   KMP_ABORT_DELAY=0\n",
      "   KMP_ADAPTIVE_LOCK_PROPS='1,1024'\n",
      "   KMP_ALIGN_ALLOC=64\n",
      "   KMP_ALL_THREADPRIVATE=128\n",
      "   KMP_ATOMIC_MODE=2\n",
      "   KMP_BLOCKTIME=0\n",
      "   KMP_CPUINFO_FILE: value is not defined\n",
      "   KMP_DETERMINISTIC_REDUCTION=false\n",
      "   KMP_DEVICE_THREAD_LIMIT=2147483647\n",
      "   KMP_DISP_NUM_BUFFERS=7\n",
      "   KMP_DUPLICATE_LIB_OK=false\n",
      "   KMP_ENABLE_TASK_THROTTLING=true\n",
      "   KMP_FORCE_REDUCTION: value is not defined\n",
      "   KMP_FOREIGN_THREADS_THREADPRIVATE=true\n",
      "   KMP_FORKJOIN_BARRIER='2,2'\n",
      "   KMP_FORKJOIN_BARRIER_PATTERN='hyper,hyper'\n",
      "   KMP_GTID_MODE=3\n",
      "   KMP_HANDLE_SIGNALS=false\n",
      "   KMP_HOT_TEAMS_MAX_LEVEL=1\n",
      "   KMP_HOT_TEAMS_MODE=0\n",
      "   KMP_INIT_AT_FORK=true\n",
      "   KMP_LIBRARY=throughput\n",
      "   KMP_LOCK_KIND=queuing\n",
      "   KMP_MALLOC_POOL_INCR=1M\n",
      "   KMP_NUM_LOCKS_IN_BLOCK=1\n",
      "   KMP_PLAIN_BARRIER='2,2'\n",
      "   KMP_PLAIN_BARRIER_PATTERN='hyper,hyper'\n",
      "   KMP_REDUCTION_BARRIER='1,1'\n",
      "   KMP_REDUCTION_BARRIER_PATTERN='hyper,hyper'\n",
      "   KMP_SCHEDULE='static,balanced;guided,iterative'\n",
      "   KMP_SETTINGS=true\n",
      "   KMP_SPIN_BACKOFF_PARAMS='4096,100'\n",
      "   KMP_STACKOFFSET=64\n",
      "   KMP_STACKPAD=0\n",
      "   KMP_STACKSIZE=8M\n",
      "   KMP_STORAGE_MAP=false\n",
      "   KMP_TASKING=2\n",
      "   KMP_TASKLOOP_MIN_TASKS=0\n",
      "   KMP_TASK_STEALING_CONSTRAINT=1\n",
      "   KMP_TEAMS_THREAD_LIMIT=4\n",
      "   KMP_TOPOLOGY_METHOD=all\n",
      "   KMP_USE_YIELD=1\n",
      "   KMP_VERSION=false\n",
      "   KMP_WARNINGS=false\n",
      "   OMP_AFFINITY_FORMAT='OMP: pid %P tid %i thread %n bound to OS proc set {%A}'\n",
      "   OMP_ALLOCATOR=omp_default_mem_alloc\n",
      "   OMP_CANCELLATION=false\n",
      "   OMP_DEFAULT_DEVICE=0\n",
      "   OMP_DISPLAY_AFFINITY=false\n",
      "   OMP_DISPLAY_ENV=false\n",
      "   OMP_DYNAMIC=false\n",
      "   OMP_MAX_ACTIVE_LEVELS=1\n",
      "   OMP_MAX_TASK_PRIORITY=0\n",
      "   OMP_NESTED: deprecated; max-active-levels-var=1\n",
      "   OMP_NUM_THREADS: value is not defined\n",
      "   OMP_PLACES: value is not defined\n",
      "   OMP_PROC_BIND='intel'\n",
      "   OMP_SCHEDULE='static'\n",
      "   OMP_STACKSIZE=8M\n",
      "   OMP_TARGET_OFFLOAD=DEFAULT\n",
      "   OMP_THREAD_LIMIT=2147483647\n",
      "   OMP_WAIT_POLICY=PASSIVE\n",
      "   KMP_AFFINITY='verbose,warnings,respect,granularity=fine,compact,1,0'\n",
      "\n",
      "2021-10-27 08:29:50.483673: I tensorflow/core/common_runtime/process_util.cc:146] Creating new thread pool with default inter op setting: 2. Tune using inter_op_parallelism_threads for best performance.\n"
     ]
    }
   ],
   "source": [
    "# Mendeklarasikan pendeteksi wajah.\n",
    "detector = MTCNN()"
   ]
  },
  {
   "cell_type": "code",
   "execution_count": 7,
   "id": "09d578a2",
   "metadata": {
    "execution": {
     "iopub.execute_input": "2021-10-27T08:29:50.831258Z",
     "iopub.status.busy": "2021-10-27T08:29:50.830562Z",
     "iopub.status.idle": "2021-10-27T08:48:36.760040Z",
     "shell.execute_reply": "2021-10-27T08:48:36.760568Z",
     "shell.execute_reply.started": "2021-10-27T08:23:23.169895Z"
    },
    "papermill": {
     "duration": 1125.954129,
     "end_time": "2021-10-27T08:48:36.760747",
     "exception": false,
     "start_time": "2021-10-27T08:29:50.806618",
     "status": "completed"
    },
    "tags": []
   },
   "outputs": [
    {
     "name": "stderr",
     "output_type": "stream",
     "text": [
      "2021-10-27 08:29:50.940420: I tensorflow/compiler/mlir/mlir_graph_optimization_pass.cc:185] None of the MLIR Optimization Passes are enabled (registered 2)\n"
     ]
    },
    {
     "name": "stdout",
     "output_type": "stream",
     "text": [
      "execution time: 0:18:45.913034\n"
     ]
    }
   ],
   "source": [
    "# Mencatat waktu dimulainya pencatatan informasi wajah target.\n",
    "start_time = time.time()\n",
    "\n",
    "# Menyiapkan daftar informasi penting tiap wajah target.\n",
    "important_list_master = []\n",
    "\n",
    "for element in range(1, 1 + len(index_test)):\n",
    "    # Mendeteksi wajah.\n",
    "    index = index_test[element - 1]\n",
    "    my_image = img_test[index].copy()\n",
    "    face_location = detector.detect_faces(my_image)\n",
    "    \n",
    "    # Menyimpan informasi penting wajah target.\n",
    "    important_list = [element, index]\n",
    "    if len(face_location):\n",
    "        for order in range(len(face_location)):\n",
    "            important_list = [element, index, order]\n",
    "            main_face_info = face_location[order]\n",
    "            important_list += main_face_info['box']\n",
    "            for key_element in main_face_info['keypoints']:\n",
    "                # Menyimpan koordinat setiap fitur wajah yang penting.\n",
    "                important_list += main_face_info['keypoints'][key_element]\n",
    "            important_list += [main_face_info['confidence']]\n",
    "            important_list_master.append(important_list)\n",
    "    else:\n",
    "        # Memberikan nilai dummy -1 untuk gambar wajah yang gagal terdeteksi.\n",
    "        important_list += [-1 for element in range(16)]\n",
    "        important_list_master.append(important_list)\n",
    "\n",
    "# Penyusunan data yang berisi lokasi wajah target.\n",
    "facial_location_data = pd.DataFrame(important_list_master)\n",
    "facial_location_data.columns = ['nomor', 'index_gambar', 'order', 'x_coor', 'y_coor', 'width', 'height',\n",
    "                                'x_lefteye', 'y_lefteye', 'x_righteye', 'y_righteye', 'x_nose', 'y_nose',\n",
    "                                'x_mouthleft', 'y_mouthleft', 'x_mouthright', 'y_mouthright', 'confidence']\n",
    "\n",
    "# Menyimpan catatan informasi wajah target dalam format .csv.\n",
    "facial_location_data.to_csv('test_facial_data.csv', index = False)\n",
    "\n",
    "# Mencatat waktu berakhirnya pencatatan informasi wajah target.\n",
    "end_time = time.time()\n",
    "\n",
    "# Menampilkan waktu eksekusi dari pencatatan informasi wajah target.\n",
    "execution_time = datetime.timedelta(seconds = end_time - start_time)\n",
    "print(\"execution time: %s\" % (execution_time))"
   ]
  },
  {
   "cell_type": "code",
   "execution_count": 8,
   "id": "3ab4aec0",
   "metadata": {
    "execution": {
     "iopub.execute_input": "2021-10-27T08:48:36.792658Z",
     "iopub.status.busy": "2021-10-27T08:48:36.791557Z",
     "iopub.status.idle": "2021-10-27T08:48:36.794761Z",
     "shell.execute_reply": "2021-10-27T08:48:36.795250Z"
    },
    "papermill": {
     "duration": 0.02211,
     "end_time": "2021-10-27T08:48:36.795425",
     "exception": false,
     "start_time": "2021-10-27T08:48:36.773315",
     "status": "completed"
    },
    "tags": []
   },
   "outputs": [
    {
     "name": "stdout",
     "output_type": "stream",
     "text": [
      "total execution time: 0:19:20.281880\n"
     ]
    }
   ],
   "source": [
    "# Mencatat waktu berakhirnya keseluruhan program visualisasi data.\n",
    "global_end_time = time.time()\n",
    "\n",
    "# Menampilkan waktu eksekusi dari keseluruhan program visualisasi data.\n",
    "total_execution_time = datetime.timedelta(seconds = global_end_time - global_start_time)\n",
    "print(\"total execution time: %s\" % (total_execution_time))"
   ]
  }
 ],
 "metadata": {
  "kernelspec": {
   "display_name": "Python 3",
   "language": "python",
   "name": "python3"
  },
  "language_info": {
   "codemirror_mode": {
    "name": "ipython",
    "version": 3
   },
   "file_extension": ".py",
   "mimetype": "text/x-python",
   "name": "python",
   "nbconvert_exporter": "python",
   "pygments_lexer": "ipython3",
   "version": "3.7.10"
  },
  "papermill": {
   "default_parameters": {},
   "duration": 1190.132868,
   "end_time": "2021-10-27T08:48:40.146161",
   "environment_variables": {},
   "exception": null,
   "input_path": "__notebook__.ipynb",
   "output_path": "__notebook__.ipynb",
   "parameters": {},
   "start_time": "2021-10-27T08:28:50.013293",
   "version": "2.3.3"
  }
 },
 "nbformat": 4,
 "nbformat_minor": 5
}
