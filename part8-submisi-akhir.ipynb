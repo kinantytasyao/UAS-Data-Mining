{
 "cells": [
  {
   "cell_type": "code",
   "execution_count": 1,
   "id": "0ad1d21a",
   "metadata": {
    "_cell_guid": "b1076dfc-b9ad-4769-8c92-a6c4dae69d19",
    "_uuid": "8f2839f25d086af736a60e9eeb907d3b93b6e0e5",
    "execution": {
     "iopub.execute_input": "2021-11-04T16:31:45.228644Z",
     "iopub.status.busy": "2021-11-04T16:31:45.227960Z",
     "iopub.status.idle": "2021-11-04T16:31:45.231001Z",
     "shell.execute_reply": "2021-11-04T16:31:45.231485Z",
     "shell.execute_reply.started": "2021-11-04T16:20:10.206242Z"
    },
    "papermill": {
     "duration": 0.024284,
     "end_time": "2021-11-04T16:31:45.231809",
     "exception": false,
     "start_time": "2021-11-04T16:31:45.207525",
     "status": "completed"
    },
    "tags": []
   },
   "outputs": [],
   "source": [
    "# Impor file yang diperlukan untuk submisi akhir.\n",
    "import numpy as np\n",
    "import pandas as pd"
   ]
  },
  {
   "cell_type": "code",
   "execution_count": 2,
   "id": "f30f12f9",
   "metadata": {
    "execution": {
     "iopub.execute_input": "2021-11-04T16:31:45.253255Z",
     "iopub.status.busy": "2021-11-04T16:31:45.252582Z",
     "iopub.status.idle": "2021-11-04T16:31:45.306492Z",
     "shell.execute_reply": "2021-11-04T16:31:45.307061Z",
     "shell.execute_reply.started": "2021-11-04T16:21:22.845117Z"
    },
    "papermill": {
     "duration": 0.066442,
     "end_time": "2021-11-04T16:31:45.307241",
     "exception": false,
     "start_time": "2021-11-04T16:31:45.240799",
     "status": "completed"
    },
    "tags": []
   },
   "outputs": [
    {
     "data": {
      "text/plain": [
       "0      26.341276\n",
       "1      26.543330\n",
       "2      28.440525\n",
       "3      25.208000\n",
       "4      30.853954\n",
       "         ...    \n",
       "985    28.660467\n",
       "986    28.481554\n",
       "987    26.923548\n",
       "988    25.371737\n",
       "989    23.192972\n",
       "Name: 0, Length: 990, dtype: float64"
      ]
     },
     "execution_count": 2,
     "metadata": {},
     "output_type": "execute_result"
    }
   ],
   "source": [
    "# Prediksi pertama.\n",
    "prediction_0 = pd.read_csv('../input/bdc-sd2021-data-tambahan/test_preds_1_03_03_0.csv').iloc[:, 0]\n",
    "prediction_0"
   ]
  },
  {
   "cell_type": "code",
   "execution_count": 3,
   "id": "c93eba5d",
   "metadata": {
    "execution": {
     "iopub.execute_input": "2021-11-04T16:31:45.331112Z",
     "iopub.status.busy": "2021-11-04T16:31:45.330154Z",
     "iopub.status.idle": "2021-11-04T16:31:45.368815Z",
     "shell.execute_reply": "2021-11-04T16:31:45.368202Z",
     "shell.execute_reply.started": "2021-11-04T16:22:28.941894Z"
    },
    "papermill": {
     "duration": 0.052367,
     "end_time": "2021-11-04T16:31:45.368977",
     "exception": false,
     "start_time": "2021-11-04T16:31:45.316610",
     "status": "completed"
    },
    "tags": []
   },
   "outputs": [
    {
     "data": {
      "text/plain": [
       "0      24.763248\n",
       "1      27.542997\n",
       "2      26.609253\n",
       "3      25.960245\n",
       "4      26.320919\n",
       "         ...    \n",
       "985    28.779148\n",
       "986    27.000145\n",
       "987    25.223616\n",
       "988    24.625957\n",
       "989    25.300568\n",
       "Name: 0, Length: 990, dtype: float64"
      ]
     },
     "execution_count": 3,
     "metadata": {},
     "output_type": "execute_result"
    }
   ],
   "source": [
    "# Prediksi kedua.\n",
    "prediction_1 = pd.read_csv('../input/bdc-sd2021-data-tambahan/test_preds_1_04_01_0.csv').iloc[:, 0]\n",
    "prediction_1"
   ]
  },
  {
   "cell_type": "code",
   "execution_count": 4,
   "id": "85cbd2c7",
   "metadata": {
    "execution": {
     "iopub.execute_input": "2021-11-04T16:31:45.394415Z",
     "iopub.status.busy": "2021-11-04T16:31:45.393438Z",
     "iopub.status.idle": "2021-11-04T16:31:45.425962Z",
     "shell.execute_reply": "2021-11-04T16:31:45.425139Z",
     "shell.execute_reply.started": "2021-11-04T16:23:32.876305Z"
    },
    "papermill": {
     "duration": 0.045444,
     "end_time": "2021-11-04T16:31:45.426131",
     "exception": false,
     "start_time": "2021-11-04T16:31:45.380687",
     "status": "completed"
    },
    "tags": []
   },
   "outputs": [
    {
     "data": {
      "text/plain": [
       "0      25.655466\n",
       "1      26.799063\n",
       "2      26.437029\n",
       "3      27.722140\n",
       "4      25.416120\n",
       "         ...    \n",
       "985    25.198900\n",
       "986    25.248188\n",
       "987    26.336412\n",
       "988    25.104937\n",
       "989    26.597425\n",
       "Name: 0, Length: 990, dtype: float64"
      ]
     },
     "execution_count": 4,
     "metadata": {},
     "output_type": "execute_result"
    }
   ],
   "source": [
    "# Prediksi ketiga.\n",
    "prediction_2 = pd.read_csv('../input/bdc-sd2021-data-tambahan/test_preds_1_04_01_1.csv').iloc[:, 0]\n",
    "prediction_2"
   ]
  },
  {
   "cell_type": "code",
   "execution_count": 5,
   "id": "6243a442",
   "metadata": {
    "execution": {
     "iopub.execute_input": "2021-11-04T16:31:45.449000Z",
     "iopub.status.busy": "2021-11-04T16:31:45.448297Z",
     "iopub.status.idle": "2021-11-04T16:31:45.476272Z",
     "shell.execute_reply": "2021-11-04T16:31:45.476897Z",
     "shell.execute_reply.started": "2021-11-04T16:23:37.244254Z"
    },
    "papermill": {
     "duration": 0.041003,
     "end_time": "2021-11-04T16:31:45.477077",
     "exception": false,
     "start_time": "2021-11-04T16:31:45.436074",
     "status": "completed"
    },
    "tags": []
   },
   "outputs": [
    {
     "data": {
      "text/plain": [
       "0      26.341003\n",
       "1      27.881073\n",
       "2      27.414585\n",
       "3      26.745600\n",
       "4      26.757060\n",
       "         ...    \n",
       "985    27.378551\n",
       "986    26.091764\n",
       "987    26.751791\n",
       "988    23.654373\n",
       "989    27.307749\n",
       "Name: 0, Length: 990, dtype: float64"
      ]
     },
     "execution_count": 5,
     "metadata": {},
     "output_type": "execute_result"
    }
   ],
   "source": [
    "# Prediksi keempat.\n",
    "prediction_3 = pd.read_csv('../input/bdc-sd2021-data-tambahan/test_preds_1_04_01_2.csv').iloc[:, 0]\n",
    "prediction_3"
   ]
  },
  {
   "cell_type": "code",
   "execution_count": 6,
   "id": "5b7d4d56",
   "metadata": {
    "execution": {
     "iopub.execute_input": "2021-11-04T16:31:45.502622Z",
     "iopub.status.busy": "2021-11-04T16:31:45.501785Z",
     "iopub.status.idle": "2021-11-04T16:31:45.531972Z",
     "shell.execute_reply": "2021-11-04T16:31:45.532594Z",
     "shell.execute_reply.started": "2021-11-04T16:23:56.140126Z"
    },
    "papermill": {
     "duration": 0.04578,
     "end_time": "2021-11-04T16:31:45.532804",
     "exception": false,
     "start_time": "2021-11-04T16:31:45.487024",
     "status": "completed"
    },
    "tags": []
   },
   "outputs": [
    {
     "data": {
      "text/plain": [
       "0      25.046722\n",
       "1      26.820332\n",
       "2      26.404518\n",
       "3      28.454271\n",
       "4      28.236654\n",
       "         ...    \n",
       "985    29.626627\n",
       "986    24.851566\n",
       "987    25.251234\n",
       "988    25.533180\n",
       "989    25.107480\n",
       "Name: 0, Length: 990, dtype: float64"
      ]
     },
     "execution_count": 6,
     "metadata": {},
     "output_type": "execute_result"
    }
   ],
   "source": [
    "# Prediksi kelima.\n",
    "prediction_4 = pd.read_csv('../input/bdc-sd2021-data-tambahan/test_preds_1_04_01_4.csv').iloc[:, 0]\n",
    "prediction_4"
   ]
  },
  {
   "cell_type": "code",
   "execution_count": 7,
   "id": "3cfe23cf",
   "metadata": {
    "execution": {
     "iopub.execute_input": "2021-11-04T16:31:45.556836Z",
     "iopub.status.busy": "2021-11-04T16:31:45.556138Z",
     "iopub.status.idle": "2021-11-04T16:31:45.585791Z",
     "shell.execute_reply": "2021-11-04T16:31:45.585080Z",
     "shell.execute_reply.started": "2021-11-04T16:24:44.018168Z"
    },
    "papermill": {
     "duration": 0.04269,
     "end_time": "2021-11-04T16:31:45.585932",
     "exception": false,
     "start_time": "2021-11-04T16:31:45.543242",
     "status": "completed"
    },
    "tags": []
   },
   "outputs": [
    {
     "data": {
      "text/html": [
       "<div>\n",
       "<style scoped>\n",
       "    .dataframe tbody tr th:only-of-type {\n",
       "        vertical-align: middle;\n",
       "    }\n",
       "\n",
       "    .dataframe tbody tr th {\n",
       "        vertical-align: top;\n",
       "    }\n",
       "\n",
       "    .dataframe thead th {\n",
       "        text-align: right;\n",
       "    }\n",
       "</style>\n",
       "<table border=\"1\" class=\"dataframe\">\n",
       "  <thead>\n",
       "    <tr style=\"text-align: right;\">\n",
       "      <th></th>\n",
       "      <th>model_0</th>\n",
       "      <th>model_1</th>\n",
       "      <th>model_2</th>\n",
       "      <th>model_3</th>\n",
       "      <th>model_4</th>\n",
       "    </tr>\n",
       "  </thead>\n",
       "  <tbody>\n",
       "    <tr>\n",
       "      <th>0</th>\n",
       "      <td>26.341276</td>\n",
       "      <td>24.763248</td>\n",
       "      <td>25.655466</td>\n",
       "      <td>26.341003</td>\n",
       "      <td>25.046722</td>\n",
       "    </tr>\n",
       "    <tr>\n",
       "      <th>1</th>\n",
       "      <td>26.543330</td>\n",
       "      <td>27.542997</td>\n",
       "      <td>26.799063</td>\n",
       "      <td>27.881073</td>\n",
       "      <td>26.820332</td>\n",
       "    </tr>\n",
       "    <tr>\n",
       "      <th>2</th>\n",
       "      <td>28.440525</td>\n",
       "      <td>26.609253</td>\n",
       "      <td>26.437029</td>\n",
       "      <td>27.414585</td>\n",
       "      <td>26.404518</td>\n",
       "    </tr>\n",
       "    <tr>\n",
       "      <th>3</th>\n",
       "      <td>25.208000</td>\n",
       "      <td>25.960245</td>\n",
       "      <td>27.722140</td>\n",
       "      <td>26.745600</td>\n",
       "      <td>28.454271</td>\n",
       "    </tr>\n",
       "    <tr>\n",
       "      <th>4</th>\n",
       "      <td>30.853954</td>\n",
       "      <td>26.320919</td>\n",
       "      <td>25.416120</td>\n",
       "      <td>26.757060</td>\n",
       "      <td>28.236654</td>\n",
       "    </tr>\n",
       "    <tr>\n",
       "      <th>...</th>\n",
       "      <td>...</td>\n",
       "      <td>...</td>\n",
       "      <td>...</td>\n",
       "      <td>...</td>\n",
       "      <td>...</td>\n",
       "    </tr>\n",
       "    <tr>\n",
       "      <th>985</th>\n",
       "      <td>28.660467</td>\n",
       "      <td>28.779148</td>\n",
       "      <td>25.198900</td>\n",
       "      <td>27.378551</td>\n",
       "      <td>29.626627</td>\n",
       "    </tr>\n",
       "    <tr>\n",
       "      <th>986</th>\n",
       "      <td>28.481554</td>\n",
       "      <td>27.000145</td>\n",
       "      <td>25.248188</td>\n",
       "      <td>26.091764</td>\n",
       "      <td>24.851566</td>\n",
       "    </tr>\n",
       "    <tr>\n",
       "      <th>987</th>\n",
       "      <td>26.923548</td>\n",
       "      <td>25.223616</td>\n",
       "      <td>26.336412</td>\n",
       "      <td>26.751791</td>\n",
       "      <td>25.251234</td>\n",
       "    </tr>\n",
       "    <tr>\n",
       "      <th>988</th>\n",
       "      <td>25.371737</td>\n",
       "      <td>24.625957</td>\n",
       "      <td>25.104937</td>\n",
       "      <td>23.654373</td>\n",
       "      <td>25.533180</td>\n",
       "    </tr>\n",
       "    <tr>\n",
       "      <th>989</th>\n",
       "      <td>23.192972</td>\n",
       "      <td>25.300568</td>\n",
       "      <td>26.597425</td>\n",
       "      <td>27.307749</td>\n",
       "      <td>25.107480</td>\n",
       "    </tr>\n",
       "  </tbody>\n",
       "</table>\n",
       "<p>990 rows × 5 columns</p>\n",
       "</div>"
      ],
      "text/plain": [
       "       model_0    model_1    model_2    model_3    model_4\n",
       "0    26.341276  24.763248  25.655466  26.341003  25.046722\n",
       "1    26.543330  27.542997  26.799063  27.881073  26.820332\n",
       "2    28.440525  26.609253  26.437029  27.414585  26.404518\n",
       "3    25.208000  25.960245  27.722140  26.745600  28.454271\n",
       "4    30.853954  26.320919  25.416120  26.757060  28.236654\n",
       "..         ...        ...        ...        ...        ...\n",
       "985  28.660467  28.779148  25.198900  27.378551  29.626627\n",
       "986  28.481554  27.000145  25.248188  26.091764  24.851566\n",
       "987  26.923548  25.223616  26.336412  26.751791  25.251234\n",
       "988  25.371737  24.625957  25.104937  23.654373  25.533180\n",
       "989  23.192972  25.300568  26.597425  27.307749  25.107480\n",
       "\n",
       "[990 rows x 5 columns]"
      ]
     },
     "execution_count": 7,
     "metadata": {},
     "output_type": "execute_result"
    }
   ],
   "source": [
    "# Prediksi yang dikompilasi.\n",
    "prediction = pd.DataFrame()\n",
    "prediction['model_0'] = prediction_0\n",
    "prediction['model_1'] = prediction_1\n",
    "prediction['model_2'] = prediction_2\n",
    "prediction['model_3'] = prediction_3\n",
    "prediction['model_4'] = prediction_4\n",
    "prediction"
   ]
  },
  {
   "cell_type": "code",
   "execution_count": 8,
   "id": "015723db",
   "metadata": {
    "execution": {
     "iopub.execute_input": "2021-11-04T16:31:45.613004Z",
     "iopub.status.busy": "2021-11-04T16:31:45.612291Z",
     "iopub.status.idle": "2021-11-04T16:31:45.619244Z",
     "shell.execute_reply": "2021-11-04T16:31:45.618663Z",
     "shell.execute_reply.started": "2021-11-04T16:26:51.910641Z"
    },
    "papermill": {
     "duration": 0.022582,
     "end_time": "2021-11-04T16:31:45.619385",
     "exception": false,
     "start_time": "2021-11-04T16:31:45.596803",
     "status": "completed"
    },
    "tags": []
   },
   "outputs": [
    {
     "data": {
      "text/plain": [
       "0      26\n",
       "1      27\n",
       "2      27\n",
       "3      27\n",
       "4      28\n",
       "       ..\n",
       "985    28\n",
       "986    26\n",
       "987    26\n",
       "988    25\n",
       "989    26\n",
       "Length: 990, dtype: int64"
      ]
     },
     "execution_count": 8,
     "metadata": {},
     "output_type": "execute_result"
    }
   ],
   "source": [
    "# Menghitung rata-rata prediksi.\n",
    "final_prediction = np.round(prediction.mean(axis = 1)).astype(int)\n",
    "final_prediction"
   ]
  },
  {
   "cell_type": "code",
   "execution_count": 9,
   "id": "567e9cd2",
   "metadata": {
    "execution": {
     "iopub.execute_input": "2021-11-04T16:31:45.644983Z",
     "iopub.status.busy": "2021-11-04T16:31:45.644289Z",
     "iopub.status.idle": "2021-11-04T16:31:45.686161Z",
     "shell.execute_reply": "2021-11-04T16:31:45.686657Z",
     "shell.execute_reply.started": "2021-11-04T16:28:25.686923Z"
    },
    "papermill": {
     "duration": 0.056383,
     "end_time": "2021-11-04T16:31:45.686859",
     "exception": false,
     "start_time": "2021-11-04T16:31:45.630476",
     "status": "completed"
    },
    "tags": []
   },
   "outputs": [
    {
     "data": {
      "text/html": [
       "<div>\n",
       "<style scoped>\n",
       "    .dataframe tbody tr th:only-of-type {\n",
       "        vertical-align: middle;\n",
       "    }\n",
       "\n",
       "    .dataframe tbody tr th {\n",
       "        vertical-align: top;\n",
       "    }\n",
       "\n",
       "    .dataframe thead th {\n",
       "        text-align: right;\n",
       "    }\n",
       "</style>\n",
       "<table border=\"1\" class=\"dataframe\">\n",
       "  <thead>\n",
       "    <tr style=\"text-align: right;\">\n",
       "      <th></th>\n",
       "      <th>id</th>\n",
       "      <th>usia</th>\n",
       "    </tr>\n",
       "  </thead>\n",
       "  <tbody>\n",
       "    <tr>\n",
       "      <th>0</th>\n",
       "      <td>005093b2-8c4b-4ed7-91c3-f5f4d50f8d27</td>\n",
       "      <td>26</td>\n",
       "    </tr>\n",
       "    <tr>\n",
       "      <th>1</th>\n",
       "      <td>0052554e-069e-4c43-beb0-0885e8f7684e</td>\n",
       "      <td>27</td>\n",
       "    </tr>\n",
       "    <tr>\n",
       "      <th>2</th>\n",
       "      <td>0092b954-1143-4a95-a17b-1edfa6af3b01</td>\n",
       "      <td>27</td>\n",
       "    </tr>\n",
       "    <tr>\n",
       "      <th>3</th>\n",
       "      <td>009fc28b-fe9b-441d-b8a2-ea8b7ae6ca16</td>\n",
       "      <td>27</td>\n",
       "    </tr>\n",
       "    <tr>\n",
       "      <th>4</th>\n",
       "      <td>00d0e306-06fe-45d8-ae6c-6f83ab8f7810</td>\n",
       "      <td>28</td>\n",
       "    </tr>\n",
       "    <tr>\n",
       "      <th>...</th>\n",
       "      <td>...</td>\n",
       "      <td>...</td>\n",
       "    </tr>\n",
       "    <tr>\n",
       "      <th>985</th>\n",
       "      <td>feb9e70f-4182-4500-866d-9b95657e727c</td>\n",
       "      <td>28</td>\n",
       "    </tr>\n",
       "    <tr>\n",
       "      <th>986</th>\n",
       "      <td>fed67ed2-620a-4ebf-b61e-16ef3d9b93f7</td>\n",
       "      <td>26</td>\n",
       "    </tr>\n",
       "    <tr>\n",
       "      <th>987</th>\n",
       "      <td>ff14c77e-c3c2-46db-9341-30de4130ef8a</td>\n",
       "      <td>26</td>\n",
       "    </tr>\n",
       "    <tr>\n",
       "      <th>988</th>\n",
       "      <td>ff662f3f-8c76-4d27-a73e-c43c4353f798</td>\n",
       "      <td>25</td>\n",
       "    </tr>\n",
       "    <tr>\n",
       "      <th>989</th>\n",
       "      <td>ffa30e4a-c056-4a2d-8c63-d266810d0791</td>\n",
       "      <td>26</td>\n",
       "    </tr>\n",
       "  </tbody>\n",
       "</table>\n",
       "<p>990 rows × 2 columns</p>\n",
       "</div>"
      ],
      "text/plain": [
       "                                       id  usia\n",
       "0    005093b2-8c4b-4ed7-91c3-f5f4d50f8d27    26\n",
       "1    0052554e-069e-4c43-beb0-0885e8f7684e    27\n",
       "2    0092b954-1143-4a95-a17b-1edfa6af3b01    27\n",
       "3    009fc28b-fe9b-441d-b8a2-ea8b7ae6ca16    27\n",
       "4    00d0e306-06fe-45d8-ae6c-6f83ab8f7810    28\n",
       "..                                    ...   ...\n",
       "985  feb9e70f-4182-4500-866d-9b95657e727c    28\n",
       "986  fed67ed2-620a-4ebf-b61e-16ef3d9b93f7    26\n",
       "987  ff14c77e-c3c2-46db-9341-30de4130ef8a    26\n",
       "988  ff662f3f-8c76-4d27-a73e-c43c4353f798    25\n",
       "989  ffa30e4a-c056-4a2d-8c63-d266810d0791    26\n",
       "\n",
       "[990 rows x 2 columns]"
      ]
     },
     "execution_count": 9,
     "metadata": {},
     "output_type": "execute_result"
    }
   ],
   "source": [
    "# Menyimpan submisi akhir.\n",
    "submission = pd.read_csv('../input/bdc-satriadata2021/submission.csv')\n",
    "submission['usia'] = final_prediction\n",
    "submission.to_csv('submission.csv', index = False)\n",
    "submission"
   ]
  }
 ],
 "metadata": {
  "kernelspec": {
   "display_name": "Python 3",
   "language": "python",
   "name": "python3"
  },
  "language_info": {
   "codemirror_mode": {
    "name": "ipython",
    "version": 3
   },
   "file_extension": ".py",
   "mimetype": "text/x-python",
   "name": "python",
   "nbconvert_exporter": "python",
   "pygments_lexer": "ipython3",
   "version": "3.7.10"
  },
  "papermill": {
   "default_parameters": {},
   "duration": 10.775251,
   "end_time": "2021-11-04T16:31:46.309570",
   "environment_variables": {},
   "exception": null,
   "input_path": "__notebook__.ipynb",
   "output_path": "__notebook__.ipynb",
   "parameters": {},
   "start_time": "2021-11-04T16:31:35.534319",
   "version": "2.3.3"
  }
 },
 "nbformat": 4,
 "nbformat_minor": 5
}
